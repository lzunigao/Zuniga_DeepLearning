{
 "cells": [
  {
   "cell_type": "code",
   "execution_count": 25,
   "id": "9c10a9b5-75d1-46ba-9997-4b7f2ce89986",
   "metadata": {},
   "outputs": [],
   "source": [
    "#%% [markdown] \n",
    "# ### Ejercicio 2"
   ]
  },
  {
   "cell_type": "code",
   "execution_count": 5,
   "id": "ca82c1ac-7096-402d-9863-4a057c084271",
   "metadata": {},
   "outputs": [],
   "source": [
    "import numpy as np\n",
    "def pitagoras(a,b,tipo=\"hipotenusa\"):\n",
    "    if tipo==\"hipotenusa\":\n",
    "        return np.sqrt(a**2 + b**2)\n",
    "    elif tipo==\"cateto\":        \n",
    "        return np.max([a,b])\n",
    "    else:\n",
    "        raise ValueError('Especifique elemento del triángulo')"
   ]
  },
  {
   "cell_type": "code",
   "execution_count": 9,
   "id": "014a7be4-b022-4785-ac53-8ec8b70a93f9",
   "metadata": {},
   "outputs": [
    {
     "data": {
      "text/plain": [
       "np.int64(4)"
      ]
     },
     "execution_count": 9,
     "metadata": {},
     "output_type": "execute_result"
    }
   ],
   "source": [
    "pitagoras(3,4,\"cateto\")"
   ]
  },
  {
   "cell_type": "code",
   "execution_count": 26,
   "id": "760b6e3a-6118-44c5-8ccc-519a316d1393",
   "metadata": {},
   "outputs": [],
   "source": [
    "#%% [markdown] \n",
    "# ### Ejercicio 3"
   ]
  },
  {
   "cell_type": "code",
   "execution_count": 18,
   "id": "bc99d25b-bf06-4b23-b23b-2513fe5dc375",
   "metadata": {},
   "outputs": [],
   "source": [
    "class Rectangulo:\n",
    "    def __init__(self, longitud, ancho):\n",
    "        self.longitud = longitud\n",
    "        self.ancho = ancho\n",
    "    def area(self):\n",
    "        return self.longitud*self.ancho\n",
    "    def perimetro(self):\n",
    "        return 2*(self.longitud + self.ancho)\n",
    "\n",
    "class Cuadrado(Rectangulo):\n",
    "    def __init__(self, lado):\n",
    "        self.lado = lado\n",
    "        super().__init__(lado,lado)\n",
    "        \n",
    "    "
   ]
  },
  {
   "cell_type": "code",
   "execution_count": 21,
   "id": "574fc102-4081-4017-b51e-36214d5e2140",
   "metadata": {},
   "outputs": [
    {
     "name": "stdout",
     "output_type": "stream",
     "text": [
      "9\n",
      "12\n"
     ]
    }
   ],
   "source": [
    "sqr = Cuadrado(3)\n",
    "print(sqr.area())\n",
    "print(sqr.perimetro())"
   ]
  },
  {
   "cell_type": "code",
   "execution_count": 27,
   "id": "360da326-2ea9-4fa2-8400-c1dfd16d68c1",
   "metadata": {},
   "outputs": [],
   "source": [
    "#%% [markdown] \n",
    "# ### Ejercicio 4"
   ]
  },
  {
   "cell_type": "code",
   "execution_count": 64,
   "id": "e43b6209-c813-49d7-acc0-3d958ab80956",
   "metadata": {},
   "outputs": [],
   "source": [
    "def stats(a):\n",
    "    mean = np.mean(a)\n",
    "    std = np.std(a)\n",
    "    return np.array([mean,std])\n",
    "\n",
    "def matmul(a,b):\n",
    "    dim_check = np.shape(a)[-1] == np.shape(b)[0]\n",
    "    if dim_check:\n",
    "        return np.matmul(a,b)\n",
    "    else:\n",
    "        raise ValueError('Las dimensiones no son compatibles')\n",
    "\n",
    "def eigen(a):\n",
    "    print('shape:', np.shape(a))\n",
    "    sqr_check = np.shape(a)[0] == np.shape(a)[-1]\n",
    "    if sqr_check:\n",
    "        eigenval, eigenvec = np.linalg.eig(a)\n",
    "        return eigenval, eigenvec\n",
    "    else:\n",
    "        raise ValueError('La matriz no es cuadrada')"
   ]
  },
  {
   "cell_type": "code",
   "execution_count": 65,
   "id": "9f180c1e-7cf6-42c4-8535-da8b3642c6be",
   "metadata": {},
   "outputs": [
    {
     "name": "stdout",
     "output_type": "stream",
     "text": [
      "matA [[0.58005462 0.336282  ]\n",
      " [0.08543173 0.56127255]\n",
      " [0.54784641 0.23654801]\n",
      " [0.35820691 0.7137954 ]\n",
      " [0.01676583 0.59567592]] \n",
      " Stats:  [0.40318794 0.22255042] \n",
      "\n",
      "matmul shape:  (5, 3)\n",
      "shape: (3, 3)\n",
      "eigen (array([ 1.23967588,  0.16672597, -0.36081331]), array([[-0.21445786, -0.65559698,  0.06980948],\n",
      "       [-0.73132449,  0.24295289, -0.43904198],\n",
      "       [-0.64743518,  0.71495909,  0.8957504 ]]))\n"
     ]
    }
   ],
   "source": [
    "matA = np.random.rand(5,2)\n",
    "matB = np.random.rand(2,3)\n",
    "matC = np.random.rand(3,3)\n",
    "\n",
    "print('matA', matA, '\\n Stats: ', stats(matA), '\\n')\n",
    "\n",
    "print('matmul shape: ', matmul(matA, matB).shape)\n",
    "\n",
    "print('eigen', eigen(matC))"
   ]
  },
  {
   "cell_type": "code",
   "execution_count": 66,
   "id": "bd9d9592-d98d-4141-9c6d-f12ed5c7a19d",
   "metadata": {},
   "outputs": [],
   "source": [
    "#%% [markdown] \n",
    "# ### Ejercicio 5"
   ]
  },
  {
   "cell_type": "code",
   "execution_count": 123,
   "id": "8f7d0182-8515-43a1-9e37-8254c35a0eb6",
   "metadata": {},
   "outputs": [
    {
     "name": "stdout",
     "output_type": "stream",
     "text": [
      "       Month  Passengers\n",
      "0    1949-01         112\n",
      "1    1949-02         118\n",
      "2    1949-03         132\n",
      "3    1949-04         129\n",
      "4    1949-05         121\n",
      "..       ...         ...\n",
      "139  1960-08         606\n",
      "140  1960-09         508\n",
      "141  1960-10         461\n",
      "142  1960-11         390\n",
      "143  1960-12         432\n",
      "\n",
      "[144 rows x 2 columns] \n",
      " 144\n",
      "     Passengers Month  Year\n",
      "0           112    01  1949\n",
      "1           118    02  1949\n",
      "2           132    03  1949\n",
      "3           129    04  1949\n",
      "4           121    05  1949\n",
      "..          ...   ...   ...\n",
      "139         606    08  1960\n",
      "140         508    09  1960\n",
      "141         461    10  1960\n",
      "142         390    11  1960\n",
      "143         432    12  1960\n",
      "\n",
      "[144 rows x 3 columns]\n"
     ]
    }
   ],
   "source": [
    "import pandas as pd\n",
    "\n",
    "def read_data(file):\n",
    "    df = pd.read_csv(file)\n",
    "    df = pd.DataFrame(df)\n",
    "    nrows = len(df)\n",
    "    return df, nrows\n",
    "\n",
    "def modify_data(df):\n",
    "    date = df.pop('Month')\n",
    "    month = date.apply(lambda x: x[-2:])\n",
    "    year = date.apply(lambda x: x[:-3])\n",
    "    df[\"Month\"] = month\n",
    "    df[\"Year\"] = year\n",
    "    return df\n",
    "\n",
    "\n",
    "\n",
    "airline_df, n = read_data('airline-passengers.csv')\n",
    "print(airline_df,'\\n', n)\n",
    "\n",
    "new_df = modify_data(airline_df)\n",
    "print(new_df)"
   ]
  },
  {
   "cell_type": "code",
   "execution_count": 158,
   "id": "f726e5bb-e798-4762-959c-3690ce1821a1",
   "metadata": {},
   "outputs": [],
   "source": [
    "def group_data(df):\n",
    "    sums = df.groupby(\"Month\").Passengers.sum()\n",
    "    plt.figure(1)\n",
    "    plt.plot(sums)\n",
    "    plt.show()\n",
    "\n",
    "    \n",
    "    plt.figure(2)\n",
    "    plt.hist(sums)\n",
    "    plt.show()\n",
    "\n",
    "    \n",
    "    return \n",
    "\n"
   ]
  },
  {
   "cell_type": "code",
   "execution_count": 159,
   "id": "f7335acb-8099-4429-bfd4-b94604eac090",
   "metadata": {},
   "outputs": [
    {
     "data": {
      "image/png": "[encoded data removed]",
      "text/plain": [
       "<Figure size 640x480 with 1 Axes>"
      ]
     },
     "metadata": {},
     "output_type": "display_data"
    },
    {
     "data": {
      "image/png": "[encoded data removed]",
      "text/plain": [
       "<Figure size 640x480 with 1 Axes>"
      ]
     },
     "metadata": {},
     "output_type": "display_data"
    }
   ],
   "source": [
    "grouped = group_data(new_df)\n"
   ]
  },
  {
   "cell_type": "code",
   "execution_count": null,
   "id": "f2f85e84-64cb-4d7a-a6b8-ad0db45fa6e2",
   "metadata": {},
   "outputs": [],
   "source": [
    "plt.hist(group"
   ]
  }
 ],
 "metadata": {
  "kernelspec": {
   "display_name": "Python 3 (ipykernel)",
   "language": "python",
   "name": "python3"
  },
  "language_info": {
   "codemirror_mode": {
    "name": "ipython",
    "version": 3
   },
   "file_extension": ".py",
   "mimetype": "text/x-python",
   "name": "python",
   "nbconvert_exporter": "python",
   "pygments_lexer": "ipython3",
   "version": "3.9.23"
  }
 },
 "nbformat": 4,
 "nbformat_minor": 5
}
