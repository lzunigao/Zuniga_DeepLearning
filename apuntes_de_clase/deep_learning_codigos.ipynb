{
 "cells": [
  {
   "cell_type": "markdown",
   "id": "bcf46d97",
   "metadata": {},
   "source": [
    "### 1. Primera clase - introducción a la programación"
   ]
  },
  {
   "cell_type": "code",
   "execution_count": 19,
   "id": "de5e1948",
   "metadata": {},
   "outputs": [
    {
     "name": "stdout",
     "output_type": "stream",
     "text": [
      "inside init\n",
      "child init\n",
      "inside call\n",
      "adding 2\n",
      "child call\n",
      "adding extra\n",
      "18\n"
     ]
    }
   ],
   "source": [
    "class A:\n",
    "    def __init__(self, x):\n",
    "        print('inside init')\n",
    "\n",
    "        self.y = x\n",
    "\n",
    "    def __call__(self):\n",
    "\n",
    "        res = 0\n",
    "        print('inside call')\n",
    "        print('adding 2')\n",
    "        res = self.y + 2\n",
    "        return res\n",
    "\n",
    "\n",
    "\n",
    "class B(A):\n",
    "    def __init__(self,x, extra):\n",
    "        super().__init__(x)\n",
    "        self.extra = extra\n",
    "        print('child init')\n",
    "    def __call__(self):\n",
    "        res = super().__call__()\n",
    "        print('child call')\n",
    "        print('adding extra')\n",
    "        res = res + self.extra\n",
    "        return res\n",
    "\n",
    "u = B(5,11)\n",
    "w = u()\n",
    "print(w)\n"
   ]
  },
  {
   "cell_type": "code",
   "execution_count": 23,
   "id": "1428dfe2",
   "metadata": {},
   "outputs": [
    {
     "ename": "NotImplementedError",
     "evalue": "should implement gradient method",
     "output_type": "error",
     "traceback": [
      "\u001b[31m---------------------------------------------------------------------------\u001b[39m",
      "\u001b[31mNotImplementedError\u001b[39m                       Traceback (most recent call last)",
      "\u001b[36mCell\u001b[39m\u001b[36m \u001b[39m\u001b[32mIn[23]\u001b[39m\u001b[32m, line 19\u001b[39m\n\u001b[32m     15\u001b[39m     \u001b[38;5;66;03m# def gradient(self, y_true, y_pred):\u001b[39;00m\n\u001b[32m     16\u001b[39m     \u001b[38;5;66;03m#     return -2*(y_pred - y_true)\u001b[39;00m\n\u001b[32m     18\u001b[39m mse = MSE()\n\u001b[32m---> \u001b[39m\u001b[32m19\u001b[39m \u001b[38;5;28mprint\u001b[39m(\u001b[43mMSE\u001b[49m\u001b[43m.\u001b[49m\u001b[43mgradient\u001b[49m\u001b[43m(\u001b[49m\u001b[43mmse\u001b[49m\u001b[43m,\u001b[49m\u001b[43m \u001b[49m\u001b[43m[\u001b[49m\u001b[32;43m1\u001b[39;49m\u001b[43m,\u001b[49m\u001b[32;43m2\u001b[39;49m\u001b[43m,\u001b[49m\u001b[32;43m3\u001b[39;49m\u001b[43m]\u001b[49m\u001b[43m,\u001b[49m\u001b[43m \u001b[49m\u001b[43m[\u001b[49m\u001b[32;43m4\u001b[39;49m\u001b[43m,\u001b[49m\u001b[32;43m5\u001b[39;49m\u001b[43m,\u001b[49m\u001b[32;43m6\u001b[39;49m\u001b[43m]\u001b[49m\u001b[43m)\u001b[49m)\n",
      "\u001b[36mCell\u001b[39m\u001b[36m \u001b[39m\u001b[32mIn[23]\u001b[39m\u001b[32m, line 9\u001b[39m, in \u001b[36mLoss.gradient\u001b[39m\u001b[34m(self, y_true, y_pred)\u001b[39m\n\u001b[32m      7\u001b[39m \u001b[38;5;129m@abc\u001b[39m.abstractmethod\n\u001b[32m      8\u001b[39m \u001b[38;5;28;01mdef\u001b[39;00m\u001b[38;5;250m \u001b[39m\u001b[34mgradient\u001b[39m(\u001b[38;5;28mself\u001b[39m, y_true, y_pred):\n\u001b[32m----> \u001b[39m\u001b[32m9\u001b[39m     \u001b[38;5;28;01mraise\u001b[39;00m \u001b[38;5;167;01mNotImplementedError\u001b[39;00m(\u001b[33m\"\u001b[39m\u001b[33mshould implement gradient method\u001b[39m\u001b[33m\"\u001b[39m)\n",
      "\u001b[31mNotImplementedError\u001b[39m: should implement gradient method"
     ]
    }
   ],
   "source": [
    "import abc #abstract base class\n",
    "\n",
    "class Loss(object):\n",
    "    def __call__(self, y_true, y_pred):\n",
    "        raise NotImplementedError(\"should implement __call__ method\")\n",
    "\n",
    "    @abc.abstractmethod\n",
    "    def gradient(self, y_true, y_pred):\n",
    "        raise NotImplementedError(\"should implement gradient method\")\n",
    "\n",
    "class MSE(Loss):\n",
    "    __name__ = 'mse'\n",
    "    def __call__(self, y_true, y_pred):\n",
    "        return np.square(y_true - y_pred).sum(axis=-1).mean()\n",
    "    # def gradient(self, y_true, y_pred):\n",
    "    #     return -2*(y_pred - y_true)\n",
    "\n",
    "mse = MSE()\n",
    "print(MSE.gradient(mse, [1,2,3], [4,5,6]))"
   ]
  },
  {
   "cell_type": "code",
   "execution_count": null,
   "id": "fadab8ea",
   "metadata": {},
   "outputs": [],
   "source": []
  }
 ],
 "metadata": {
  "kernelspec": {
   "display_name": ".venv (3.12.10)",
   "language": "python",
   "name": "python3"
  },
  "language_info": {
   "codemirror_mode": {
    "name": "ipython",
    "version": 3
   },
   "file_extension": ".py",
   "mimetype": "text/x-python",
   "name": "python",
   "nbconvert_exporter": "python",
   "pygments_lexer": "ipython3",
   "version": "3.12.10"
  }
 },
 "nbformat": 4,
 "nbformat_minor": 5
}
